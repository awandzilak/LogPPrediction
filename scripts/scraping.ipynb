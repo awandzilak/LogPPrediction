{
 "cells": [
  {
   "cell_type": "markdown",
   "id": "d1455148",
   "metadata": {},
   "source": [
    "#### Scraping the data from ZINC20 database https://zinc20.docking.org/\n",
    "\n",
    "All data in this project are coming from a free ZINC20 database. The goal is be to predict logP value based on various, mostly topological, descriptors. \n",
    "\n",
    "In this study some of the descriptors were taken directly from ZINC20 molecule pages (example: https://zinc15.docking.org/substances/ZINC000000057058/). These included molecular weight, number of rings, heavy and hetero atoms and the fraction of sp3 hybridized carbon atoms.  Furthermore, for some molecules, additional parameters measured at different pH levels (6.4, 7.0, 7.4, 8.4) were available. Those included: net charge, number of H-bond donors, H-bond acceptors and rotatable bonds, tPSA and apolar and polar desolvation.\n",
    "\n",
    "Simultaneously, based on SMILES *(Simplified Molecular Input Line Entry Specification)*, which represent the molecules’ structure, with the use of RDKit library additional parameters were obtained. Majority of them were parameters available also from the ZINC database, generated just for the purpose of verification."
   ]
  },
  {
   "cell_type": "markdown",
   "id": "c70aa751",
   "metadata": {},
   "source": [
    "For the purpose of web scraping BeautifulSoup library was employed. Scraped data were stored into SQL database."
   ]
  },
  {
   "cell_type": "code",
   "execution_count": 1,
   "id": "51bd7929",
   "metadata": {},
   "outputs": [],
   "source": [
    "import sqlite3\n",
    "import requests\n",
    "from bs4 import BeautifulSoup"
   ]
  },
  {
   "cell_type": "markdown",
   "id": "27e12d71",
   "metadata": {},
   "source": [
    "Let's create the database with columns names corresponding to the features we are going to scrape."
   ]
  },
  {
   "cell_type": "code",
   "execution_count": 2,
   "id": "84c59a28",
   "metadata": {},
   "outputs": [
    {
     "data": {
      "text/plain": [
       "<sqlite3.Cursor at 0x25558637540>"
      ]
     },
     "execution_count": 2,
     "metadata": {},
     "output_type": "execute_result"
    }
   ],
   "source": [
    "db = sqlite3.connect('logP.db')\n",
    "cursor = db.cursor()\n",
    "cursor.execute(\"CREATE TABLE IF NOT EXISTS molecules (zinc_name text, name text, mwt real, logp real,\\\n",
    "               formula text, rings int, heavy_atoms int, hetero_atoms int, fraction_sp3 real,\\\n",
    "               smiles text, label1 text, charge1 int, Hbond_donors1 int, Hbond_acceptors1 int,\\\n",
    "               tPSA1 real, rotatable_bonds1 int, apolar_des1 real, polar_des1 real, label2 text,\\\n",
    "               charge2 int, Hbond_donors2 int, Hbond_acceptors2 int, tPSA2 real, rotatable_bonds2 int,\\\n",
    "               apolar_des2 real, polar_des2 real, label3 text, charge3 int, Hbond_donors3 int,\\\n",
    "               Hbond_acceptors3 int, tPSA3 real, rotatable_bonds3 int, apolar_des3 real,\\\n",
    "               polar_des3 real, label4 text, charge4 int, Hbond_donors4 int, Hbond_acceptors4 int,\\\n",
    "               tPSA4 real, rotatable_bonds4 int, apolar_des4 real, polar_des4 real, RDmwt real,\\\n",
    "               RDhba int, RDhbd int, RDrotatable int, RDtpsa real, RDcsp3 real, RDCfraction real)\")               "
   ]
  },
  {
   "cell_type": "markdown",
   "id": "5a4a565e",
   "metadata": {},
   "source": [
    "Before we scrape the parameters which can be found directly in each molecule's page let's write a function which will allow for getting additional parameters based on molecule's SMILES. This will be done with the use of RDKit library."
   ]
  },
  {
   "cell_type": "markdown",
   "id": "b6f14b16",
   "metadata": {},
   "source": [
    "In order to use RDKit new environment needs to be prepared: https://www.rdkit.org/docs/Install.html"
   ]
  },
  {
   "cell_type": "code",
   "execution_count": 3,
   "id": "33ec3cb1",
   "metadata": {},
   "outputs": [],
   "source": [
    "from rdkit import Chem\n",
    "from rdkit.Chem import rdMolDescriptors as descriptors\n",
    "from rdkit.Chem import rdqueries\n",
    "\n",
    "def get_RDKit_properties(smiles):\n",
    "    \"\"\"\n",
    "    the function gets selected descriptors based on molecule's SMILES\n",
    "    if the SMILES is incorrect, all values are returned as NULLs (SQL database friendly format)\n",
    "    \"\"\"\n",
    "    try:\n",
    "        molecule = Chem.MolFromSmiles(smiles)\n",
    "    except:\n",
    "        molecule = None\n",
    "        RDmwt = None\n",
    "        RDhba = None\n",
    "        RDhbd = None\n",
    "        RDrotatable = None\n",
    "        RDtpsa = None\n",
    "        RDcsp3 = None\n",
    "        RDCfraction = None\n",
    "    \n",
    "    if molecule != None:\n",
    "        # get molecular weight\n",
    "        try: RDmwt = float(descriptors.CalcExactMolWt(molecule))\n",
    "        except: RDmwt = None\n",
    "        # get the number of hydrogen atoms able to engage in hydrogen bonds\n",
    "        try: RDhbd = int(descriptors.CalcNumHBD(molecule))\n",
    "        except: RDhbd = None\n",
    "        # get the number of hetero-atoms able to engage in hydrogen bonds\n",
    "        try: RDhba = int(descriptors.CalcNumHBA(molecule))\n",
    "        except: RDhba = None\n",
    "        # get Topologic Polar Surface Area (the sum of van-Der-Waals surface of polar atoms)\n",
    "        try: RDtpsa = float(descriptors.CalcTPSA(molecule))\n",
    "        except: RDtpsa = None\n",
    "        # get the number of non-terminal sigma-bonds that are not part of a cycle\n",
    "        try: RDrotatable = int(descriptors.CalcNumRotatableBonds(molecule))\n",
    "        except: RDrotatable = None\n",
    "        # get number of sp3 hybridized carbons divided by the total number of carbons in the molecule \n",
    "        try: RDcsp3 = float(descriptors.CalcFractionCSP3(molecule))\n",
    "        except: RDcsp3 = None\n",
    "        # get fraction of heavy atoms that are carbons \n",
    "        try: RDCfraction = float(len(molecule.GetAtomsMatchingQuery(rdqueries.AtomNumEqualsQueryAtom(6)))/molecule.GetNumAtoms())\n",
    "        except: RDCfraction = None\n",
    "        \n",
    "    return RDmwt, RDhba, RDhbd, RDrotatable, RDtpsa, RDcsp3, RDCfraction"
   ]
  },
  {
   "cell_type": "markdown",
   "id": "86fe9a05",
   "metadata": {},
   "source": [
    "Now, that we have a function which gets additional parameters based on molecule's SMILES we can write a function which, for a given molecule page, will:\n",
    "1. get descriptors which can be directly scraped from the website\n",
    "2. get SMILES of the molecule and call a function which generates more descriptors based on SMILES\n",
    "3. write all the descriptors in the database\n"
   ]
  },
  {
   "cell_type": "code",
   "execution_count": 4,
   "id": "d396c27b",
   "metadata": {},
   "outputs": [],
   "source": [
    "def get_descriptors(link):\n",
    "    \"\"\"\n",
    "    scrapes all useful information from given ZINC20 molecule webpage: names, descriptors\n",
    "    in case the values don't exists it replaces them with NULLs (SQL database friendly)\n",
    "    \"\"\"\n",
    "    # get parsed content of given webpage\n",
    "    response = requests.get(link)\n",
    "    page_root_element = BeautifulSoup(response.text, 'html.parser')\n",
    "    \n",
    "    # get names of molecule:\n",
    "    names = page_root_element.find('h1').text.split()\n",
    "    zinc_name = names[0] #1. ZINC20 database name\n",
    "    if len(names)>1: #2. commercial name\n",
    "        name = names[1] \n",
    "    else: \n",
    "        name = None \n",
    "    \n",
    "    # get molecular weight and partition coefficient (logP)\n",
    "    try: \n",
    "        parameters1 = page_root_element.select('table > tbody > tr > td')\n",
    "    except:\n",
    "        print('no molecular weight or logP for: ' + link)\n",
    "    # molecular weight\n",
    "    try: mwt = float(parameters1[3].text)\n",
    "    except: mwt = None\n",
    "    # partition coefficient\n",
    "    try: logP = float(parameters1[4].text)\n",
    "    except: logP = None\n",
    "    \n",
    "    # get more structural parameters (if available):\n",
    "    try:\n",
    "        parameters2 = page_root_element.select('table > tbody > tr')[1].select('td')\n",
    "    except:\n",
    "        print('further structural parameters (rings, heavy atoms, etc.) not available for: '+link)\n",
    "    # get chemical formula    \n",
    "    try: formula = parameters2[0].text\n",
    "    except:formula = None\n",
    "    # get number of rings\n",
    "    try: rings = parameters2[1].text\n",
    "    except: rings = None\n",
    "    # get number of non-hydrogen atoms\n",
    "    try: heavy_atoms = parameters2[2].text\n",
    "    except: heavy_atoms = None\n",
    "    # get number of atoms excluding H anc C\n",
    "    try: hetero_atoms = parameters2[3].text\n",
    "    except: hetero_atoms = None\n",
    "    # get number of sp3 hybridized carbons divided by the total number of carbons in the molecule \n",
    "    try: fraction_sp3 = parameters2[4].text\n",
    "    except: fraction_sp3 = None\n",
    "      \n",
    "    # get SMILES\n",
    "    try:\n",
    "        smiles = page_root_element.select('.input-sm > input')[0].get('value')\n",
    "    except:\n",
    "        smiles = None\n",
    "        print('SMILES not available for: '+link)\n",
    "    \n",
    "    # let's use the SMILES to get additional parameters with RDKit\n",
    "    RDmwt, RDhba, RDhbd, RDrotatable, RDtpsa, RDcsp3, RDCfraction = get_RDKit_properties(smiles)\n",
    "    \n",
    "    # get pH dependent parameters\n",
    "    try:\n",
    "        parameters3 = page_root_element.select('.protomers > table > tbody > tr')\n",
    "   \n",
    "        # initialize pH dependent parameters with NULLs \n",
    "        # (because entries exist not for all pH values: Reference, Low, Mid, High)\n",
    "        label1 = charge1 = Hbond_donors1 = Hbond_acceptors1 = tPSA1 = rotatable_bonds1 = apolar_des1 = polar_des1 = None\n",
    "        label2 = charge2 = Hbond_donors2 = Hbond_acceptors2 = tPSA2 = rotatable_bonds2 = apolar_des2 = polar_des2 = None\n",
    "        label3 = charge3 = Hbond_donors3 = Hbond_acceptors3 = tPSA3 = rotatable_bonds3 = apolar_des3 = polar_des3 = None\n",
    "        label4 = charge4 = Hbond_donors4 = Hbond_acceptors4 = tPSA4 = rotatable_bonds4 = apolar_des4 = polar_des4 = None\n",
    "    \n",
    "        for protomer in parameters3:\n",
    "            param = protomer.select('td')\n",
    "            # get pH information\n",
    "            try: label = param[0].text.strip()\n",
    "            except: label = None\n",
    "            # get the overall charge of the molecule at the given pH\n",
    "            try: charge = int(param[1].text)\n",
    "            except: charge = None\n",
    "            # get the number of hydrogen atoms able to engage in hydrogen bonds\n",
    "            try: Hbond_donors = int(param[2].text)\n",
    "            except: Hbond_donors = None\n",
    "            # get the number of hetero-atoms able to engage in hydrogen bonds\n",
    "            try: Hbond_acceptors = int(param[3].text)\n",
    "            except: Hbond_acceptors = None\n",
    "            # get Topologic Polar Surface Area (the sum of van-Der-Waals surface of polar atoms)\n",
    "            try: tPSA = float(param[4].text)\n",
    "            except: tPSA = None\n",
    "            # get the number of non-terminal sigma-bonds that are not part of a cycle\n",
    "            try: rotatable_bonds = int(param[5].text)\n",
    "            except: rotatable_bonds = None\n",
    "            # get apolar desolvation\n",
    "            try: apolar_des = float(param[6].text)\n",
    "            except: apolar_des = None\n",
    "            # get polar desolvation\n",
    "            try: polar_des = float(param[7].text)\n",
    "            except: polar_des = None\n",
    "            \n",
    "            # assign values to the correct pH         \n",
    "            if param[0].text.strip().split()[0] == 'Reference':\n",
    "                label1, charge1, Hbond_donors1, Hbond_acceptors1, tPSA1, rotatable_bonds1, apolar_des1, polar_des1 = label, charge, Hbond_donors, Hbond_acceptors, tPSA, rotatable_bonds, apolar_des, polar_des\n",
    "            elif param[0].text.strip().split()[0] == 'Low':\n",
    "                label2, charge2, Hbond_donors2, Hbond_acceptors2, tPSA2, rotatable_bonds2, apolar_des2, polar_des2 = label, charge, Hbond_donors, Hbond_acceptors, tPSA, rotatable_bonds, apolar_des, polar_des\n",
    "            elif param[0].text.strip().split()[0] == 'Mid':\n",
    "                label3, charge3, Hbond_donors3, Hbond_acceptors3, tPSA3, rotatable_bonds3, apolar_des3, polar_des3 = label, charge, Hbond_donors, Hbond_acceptors, tPSA, rotatable_bonds, apolar_des, polar_des\n",
    "            elif param[0].text.strip().split()[0] == 'High':\n",
    "                label4, charge4, Hbond_donors4, Hbond_acceptors4, tPSA4, rotatable_bonds4, apolar_des4, polar_des4 = label, charge, Hbond_donors, Hbond_acceptors, tPSA, rotatable_bonds, apolar_des, polar_des\n",
    "        \n",
    "    except:\n",
    "        parameters3 = None\n",
    "        print('no pH dependent parameters for: ' + link)\n",
    " \n",
    "    cursor.execute(\n",
    "            \"INSERT INTO molecules (zinc_name, name, mwt, logp, formula, rings, heavy_atoms, hetero_atoms, fraction_sp3, \\\n",
    "            smiles, label1, charge1, Hbond_donors1, Hbond_acceptors1, tPSA1, rotatable_bonds1, apolar_des1, polar_des1, \\\n",
    "            label2, charge2, Hbond_donors2, Hbond_acceptors2, tPSA2, rotatable_bonds2, apolar_des2, polar_des2, label3, \\\n",
    "            charge3, Hbond_donors3, Hbond_acceptors3, tPSA3, rotatable_bonds3, apolar_des3, polar_des3, label4, charge4, \\\n",
    "            Hbond_donors4, Hbond_acceptors4, tPSA4, rotatable_bonds4, apolar_des4, polar_des4, RDmwt, RDhba, RDhbd, \\\n",
    "            RDrotatable, RDtpsa, RDcsp3, RDCfraction) VALUES (? ,? ,? ,? ,? ,? ,? ,? ,? ,? ,? ,? ,? ,? ,? ,? ,? ,? ,? ,\\\n",
    "            ? ,? ,? ,? ,? ,? ,? ,? ,? ,? ,? ,? ,? ,? ,? ,? ,? ,? ,? ,? ,? ,? ,?, ?, ?, ?, ?, ?, ?, ?)\", \\\n",
    "            (zinc_name, name, mwt, logP, formula, rings, heavy_atoms, hetero_atoms, fraction_sp3, smiles, label1, charge1, \\\n",
    "             Hbond_donors1, Hbond_acceptors1, tPSA1, rotatable_bonds1, apolar_des1, polar_des1, label2, charge2, Hbond_donors2, \\\n",
    "             Hbond_acceptors2, tPSA2, rotatable_bonds2, apolar_des2, polar_des2, label3, charge3, Hbond_donors3, Hbond_acceptors3, \\\n",
    "             tPSA3, rotatable_bonds3, apolar_des3, polar_des3, label4, charge4, Hbond_donors4, Hbond_acceptors4, tPSA4, \\\n",
    "             rotatable_bonds4, apolar_des4, polar_des4, RDmwt, RDhba, RDhbd, RDrotatable, RDtpsa, RDcsp3, RDCfraction ))\n",
    "            \n",
    "    db.commit()"
   ]
  },
  {
   "cell_type": "markdown",
   "id": "f03fa98f",
   "metadata": {},
   "source": [
    "Now, let's iterate over pages and molecules of ZINC20 website"
   ]
  },
  {
   "cell_type": "code",
   "execution_count": 5,
   "id": "4bbdc873",
   "metadata": {},
   "outputs": [],
   "source": [
    "import time\n",
    "\n",
    "def get_molecules(number):\n",
    "    \"\"\"\n",
    "    gets molecules and their features from ZINC20 website.\n",
    "    number - parameter which defines how many molecules funcion will try to scrape.\n",
    "    \"\"\"\n",
    "    # parameters useful if you want to restart data scraping from a specific place\n",
    "    counter = 0 # before you restart put how many molecules there are currently in the database \n",
    "    page_counter = 1 # page of ZINC20 database you want to start from\n",
    "    \n",
    "    # continues until defined number of records is scraped into the database\n",
    "    while counter < number:\n",
    "        response = requests.get(\"https://zinc.docking.org/substances/?page=\"+ str(page_counter), timeout=60)\n",
    "        page_root_element = BeautifulSoup(response.text, 'html.parser')\n",
    "\n",
    "        # find links to all molecules presented on this page\n",
    "        for molecule in page_root_element.find_all('h4'):\n",
    "            link = molecule.find('a').get(\"href\")\n",
    "            get_descriptors(\"https://zinc.docking.org\" + link)\n",
    "            #count already scraped molecules\n",
    "            counter += 1\n",
    "        # keep track on which page we are in case connection breaks and there is a need to restart sraping\n",
    "        page_counter += 1\n",
    "        print(counter, page_counter)\n",
    "        \n",
    "        # delay in order to avoid sending requests to ZINC20 page too often\n",
    "        time.sleep(10)"
   ]
  },
  {
   "cell_type": "markdown",
   "id": "9463f817",
   "metadata": {},
   "source": [
    "I believe that 100 000 molecules will be enough for my project. So let's get the data."
   ]
  },
  {
   "cell_type": "code",
   "execution_count": 6,
   "id": "b3434294",
   "metadata": {},
   "outputs": [
    {
     "name": "stdout",
     "output_type": "stream",
     "text": [
      "100 2\n",
      "200 3\n",
      "300 4\n",
      "400 5\n",
      "500 6\n",
      "600 7\n",
      "700 8\n",
      "800 9\n",
      "900 10\n",
      "1000 11\n"
     ]
    },
    {
     "data": {
      "text/plain": [
       "<function Connection.close()>"
      ]
     },
     "execution_count": 6,
     "metadata": {},
     "output_type": "execute_result"
    }
   ],
   "source": [
    "get_molecules(1000)\n",
    "db.close"
   ]
  }
 ],
 "metadata": {
  "kernelspec": {
   "display_name": "Python 3 (ipykernel)",
   "language": "python",
   "name": "python3"
  },
  "language_info": {
   "codemirror_mode": {
    "name": "ipython",
    "version": 3
   },
   "file_extension": ".py",
   "mimetype": "text/x-python",
   "name": "python",
   "nbconvert_exporter": "python",
   "pygments_lexer": "ipython3",
   "version": "3.10.4"
  }
 },
 "nbformat": 4,
 "nbformat_minor": 5
}
